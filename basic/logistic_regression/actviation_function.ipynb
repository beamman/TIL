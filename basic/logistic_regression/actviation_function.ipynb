{
 "cells": [
  {
   "cell_type": "markdown",
   "metadata": {},
   "source": [
    "### Activiation functions"
   ]
  },
  {
   "cell_type": "code",
   "execution_count": 3,
   "metadata": {},
   "outputs": [],
   "source": [
    "import torch\n",
    "import torch.nn as nn\n",
    "import matplotlib.pyplot as plt"
   ]
  },
  {
   "cell_type": "code",
   "execution_count": 14,
   "metadata": {},
   "outputs": [
    {
     "data": {
      "text/plain": [
       "tensor([-1.9215e+01, -1.8588e+01, -1.6765e+01, -1.6410e+01, -1.5818e+01,\n",
       "        -1.4406e+01, -1.4379e+01, -1.4350e+01, -1.3052e+01, -1.2718e+01,\n",
       "        -1.2591e+01, -1.2485e+01, -1.1216e+01, -1.1183e+01, -1.1115e+01,\n",
       "        -1.1036e+01, -1.0990e+01, -1.0979e+01, -1.0019e+01, -9.3699e+00,\n",
       "        -8.9113e+00, -8.8922e+00, -8.8281e+00, -8.7204e+00, -8.5813e+00,\n",
       "        -8.5295e+00, -8.0637e+00, -7.6830e+00, -7.4491e+00, -7.3880e+00,\n",
       "        -7.1325e+00, -7.1258e+00, -6.9167e+00, -6.3836e+00, -5.9971e+00,\n",
       "        -5.1239e+00, -4.8902e+00, -4.1612e+00, -4.1489e+00, -3.9908e+00,\n",
       "        -3.9476e+00, -2.9606e+00, -2.3479e+00, -2.2473e+00, -1.4278e+00,\n",
       "        -8.4942e-01, -5.4264e-01, -3.9026e-01, -3.5135e-01, -1.1887e-01,\n",
       "         1.2190e-02,  1.1748e-01,  2.8808e-01,  1.9908e+00,  2.2123e+00,\n",
       "         2.4296e+00,  2.6565e+00,  3.6178e+00,  3.8123e+00,  3.9010e+00,\n",
       "         4.2484e+00,  4.4441e+00,  4.6674e+00,  4.7992e+00,  4.8330e+00,\n",
       "         4.9104e+00,  5.0794e+00,  5.1828e+00,  5.3230e+00,  5.3680e+00,\n",
       "         5.6251e+00,  5.9409e+00,  6.0629e+00,  6.2273e+00,  6.5399e+00,\n",
       "         6.5743e+00,  6.5822e+00,  6.7762e+00,  7.9300e+00,  8.4324e+00,\n",
       "         8.7040e+00,  8.9608e+00,  9.1691e+00,  9.5257e+00,  1.0602e+01,\n",
       "         1.0702e+01,  1.0837e+01,  1.1067e+01,  1.2439e+01,  1.2700e+01,\n",
       "         1.2827e+01,  1.2936e+01,  1.3053e+01,  1.3329e+01,  1.5373e+01,\n",
       "         1.6586e+01,  1.7016e+01,  2.1023e+01,  2.2296e+01,  2.3481e+01])"
      ]
     },
     "execution_count": 14,
     "metadata": {},
     "output_type": "execute_result"
    }
   ],
   "source": [
    "x = torch.sort(torch.randn(100) * 10)[0]\n",
    "\n",
    "x"
   ]
  },
  {
   "cell_type": "markdown",
   "metadata": {},
   "source": [
    "### sigmoid"
   ]
  },
  {
   "cell_type": "markdown",
   "metadata": {},
   "source": [
    "$$\n",
    "\\sigma(x)=\\frac{1}{1+e^{-x}}\n",
    "$$"
   ]
  },
  {
   "cell_type": "code",
   "execution_count": 6,
   "metadata": {},
   "outputs": [
    {
     "name": "stdout",
     "output_type": "stream",
     "text": [
      "tensor([5.9182e-09, 8.8288e-09, 8.9404e-09, 2.7746e-08, 4.3630e-08, 1.2311e-07,\n",
      "        4.2430e-07, 1.2683e-06, 1.4046e-06, 1.7878e-06, 2.2199e-06, 2.6305e-06,\n",
      "        7.4000e-06, 9.7477e-06, 2.3507e-05, 3.9676e-05, 8.8298e-05, 1.0165e-04,\n",
      "        1.1205e-04, 1.1821e-04, 1.1981e-04, 1.8210e-04, 2.2589e-04, 2.9862e-04,\n",
      "        3.3139e-04, 5.3539e-04, 5.9961e-04, 6.4502e-04, 7.8486e-04, 9.7047e-04,\n",
      "        1.3390e-03, 1.4184e-03, 1.6127e-03, 2.4985e-03, 3.9790e-03, 5.7199e-03,\n",
      "        6.4004e-03, 6.4803e-03, 9.3153e-03, 1.1279e-02, 3.0498e-02, 3.1052e-02,\n",
      "        3.2417e-02, 5.1029e-02, 7.8268e-02, 1.4124e-01, 2.7357e-01, 2.7818e-01,\n",
      "        2.8923e-01, 2.9555e-01, 3.8122e-01, 5.0190e-01, 7.2665e-01, 8.2557e-01,\n",
      "        8.3630e-01, 8.3925e-01, 8.6901e-01, 9.2334e-01, 9.3048e-01, 9.4103e-01,\n",
      "        9.4492e-01, 9.5125e-01, 9.5539e-01, 9.6461e-01, 9.8293e-01, 9.8381e-01,\n",
      "        9.8452e-01, 9.8671e-01, 9.8987e-01, 9.9130e-01, 9.9282e-01, 9.9331e-01,\n",
      "        9.9384e-01, 9.9532e-01, 9.9638e-01, 9.9957e-01, 9.9966e-01, 9.9975e-01,\n",
      "        9.9976e-01, 9.9984e-01, 9.9993e-01, 9.9993e-01, 9.9998e-01, 9.9998e-01,\n",
      "        9.9998e-01, 9.9999e-01, 9.9999e-01, 1.0000e+00, 1.0000e+00, 1.0000e+00,\n",
      "        1.0000e+00, 1.0000e+00, 1.0000e+00, 1.0000e+00, 1.0000e+00, 1.0000e+00,\n",
      "        1.0000e+00, 1.0000e+00, 1.0000e+00, 1.0000e+00])\n"
     ]
    }
   ],
   "source": [
    "act = nn.Sigmoid()\n",
    "\n",
    "print(act(x))"
   ]
  },
  {
   "cell_type": "code",
   "execution_count": 7,
   "metadata": {},
   "outputs": [
    {
     "name": "stdout",
     "output_type": "stream",
     "text": [
      "tensor([5.9182e-09, 8.8288e-09, 8.9404e-09, 2.7746e-08, 4.3630e-08, 1.2311e-07,\n",
      "        4.2430e-07, 1.2683e-06, 1.4046e-06, 1.7878e-06, 2.2199e-06, 2.6305e-06,\n",
      "        7.4000e-06, 9.7477e-06, 2.3507e-05, 3.9676e-05, 8.8298e-05, 1.0165e-04,\n",
      "        1.1205e-04, 1.1821e-04, 1.1981e-04, 1.8210e-04, 2.2589e-04, 2.9862e-04,\n",
      "        3.3139e-04, 5.3539e-04, 5.9961e-04, 6.4502e-04, 7.8486e-04, 9.7047e-04,\n",
      "        1.3390e-03, 1.4184e-03, 1.6127e-03, 2.4985e-03, 3.9790e-03, 5.7199e-03,\n",
      "        6.4004e-03, 6.4803e-03, 9.3153e-03, 1.1279e-02, 3.0498e-02, 3.1052e-02,\n",
      "        3.2417e-02, 5.1029e-02, 7.8268e-02, 1.4124e-01, 2.7357e-01, 2.7818e-01,\n",
      "        2.8923e-01, 2.9555e-01, 3.8122e-01, 5.0190e-01, 7.2665e-01, 8.2557e-01,\n",
      "        8.3630e-01, 8.3925e-01, 8.6901e-01, 9.2334e-01, 9.3048e-01, 9.4103e-01,\n",
      "        9.4492e-01, 9.5125e-01, 9.5539e-01, 9.6461e-01, 9.8293e-01, 9.8381e-01,\n",
      "        9.8452e-01, 9.8671e-01, 9.8987e-01, 9.9130e-01, 9.9282e-01, 9.9331e-01,\n",
      "        9.9384e-01, 9.9532e-01, 9.9638e-01, 9.9957e-01, 9.9966e-01, 9.9975e-01,\n",
      "        9.9976e-01, 9.9984e-01, 9.9993e-01, 9.9993e-01, 9.9998e-01, 9.9998e-01,\n",
      "        9.9998e-01, 9.9999e-01, 9.9999e-01, 1.0000e+00, 1.0000e+00, 1.0000e+00,\n",
      "        1.0000e+00, 1.0000e+00, 1.0000e+00, 1.0000e+00, 1.0000e+00, 1.0000e+00,\n",
      "        1.0000e+00, 1.0000e+00, 1.0000e+00, 1.0000e+00])\n"
     ]
    }
   ],
   "source": [
    "print(torch.sigmoid(x))"
   ]
  },
  {
   "cell_type": "code",
   "execution_count": 8,
   "metadata": {},
   "outputs": [
    {
     "data": {
      "image/png": "[encoded data removed]",
      "text/plain": [
       "<Figure size 432x288 with 1 Axes>"
      ]
     },
     "metadata": {
      "needs_background": "light"
     },
     "output_type": "display_data"
    }
   ],
   "source": [
    "plt.plot(x.numpy(), act(x).numpy())\n",
    "plt.show()"
   ]
  },
  {
   "cell_type": "markdown",
   "metadata": {},
   "source": [
    "### Hypoerbolic Tangent (TanH)"
   ]
  },
  {
   "cell_type": "markdown",
   "metadata": {},
   "source": [
    "$$\n",
    "\\text{tanh}(x)=\\frac{e^x-e^{-x}}{e^x+e^{-x}}\n",
    "$$"
   ]
  },
  {
   "cell_type": "code",
   "execution_count": 9,
   "metadata": {},
   "outputs": [
    {
     "name": "stdout",
     "output_type": "stream",
     "text": [
      "tensor([-1.0000, -1.0000, -1.0000, -1.0000, -1.0000, -1.0000, -1.0000, -1.0000,\n",
      "        -1.0000, -1.0000, -1.0000, -1.0000, -1.0000, -1.0000, -1.0000, -1.0000,\n",
      "        -1.0000, -1.0000, -1.0000, -1.0000, -1.0000, -1.0000, -1.0000, -1.0000,\n",
      "        -1.0000, -1.0000, -1.0000, -1.0000, -1.0000, -1.0000, -1.0000, -1.0000,\n",
      "        -1.0000, -1.0000, -1.0000, -0.9999, -0.9999, -0.9999, -0.9998, -0.9997,\n",
      "        -0.9980, -0.9979, -0.9978, -0.9942, -0.9857, -0.9473, -0.7516, -0.7414,\n",
      "        -0.7159, -0.7006, -0.4497,  0.0076,  0.7521,  0.9145,  0.9262,  0.9292,\n",
      "         0.9556,  0.9863,  0.9889,  0.9922,  0.9932,  0.9948,  0.9956,  0.9973,\n",
      "         0.9994,  0.9995,  0.9995,  0.9996,  0.9998,  0.9998,  0.9999,  0.9999,\n",
      "         0.9999,  1.0000,  1.0000,  1.0000,  1.0000,  1.0000,  1.0000,  1.0000,\n",
      "         1.0000,  1.0000,  1.0000,  1.0000,  1.0000,  1.0000,  1.0000,  1.0000,\n",
      "         1.0000,  1.0000,  1.0000,  1.0000,  1.0000,  1.0000,  1.0000,  1.0000,\n",
      "         1.0000,  1.0000,  1.0000,  1.0000])\n"
     ]
    }
   ],
   "source": [
    "act = nn.Tanh()\n",
    "\n",
    "print(act(x))"
   ]
  },
  {
   "cell_type": "code",
   "execution_count": 10,
   "metadata": {},
   "outputs": [
    {
     "name": "stdout",
     "output_type": "stream",
     "text": [
      "tensor([-1.0000, -1.0000, -1.0000, -1.0000, -1.0000, -1.0000, -1.0000, -1.0000,\n",
      "        -1.0000, -1.0000, -1.0000, -1.0000, -1.0000, -1.0000, -1.0000, -1.0000,\n",
      "        -1.0000, -1.0000, -1.0000, -1.0000, -1.0000, -1.0000, -1.0000, -1.0000,\n",
      "        -1.0000, -1.0000, -1.0000, -1.0000, -1.0000, -1.0000, -1.0000, -1.0000,\n",
      "        -1.0000, -1.0000, -1.0000, -0.9999, -0.9999, -0.9999, -0.9998, -0.9997,\n",
      "        -0.9980, -0.9979, -0.9978, -0.9942, -0.9857, -0.9473, -0.7516, -0.7414,\n",
      "        -0.7159, -0.7006, -0.4497,  0.0076,  0.7521,  0.9145,  0.9262,  0.9292,\n",
      "         0.9556,  0.9863,  0.9889,  0.9922,  0.9932,  0.9948,  0.9956,  0.9973,\n",
      "         0.9994,  0.9995,  0.9995,  0.9996,  0.9998,  0.9998,  0.9999,  0.9999,\n",
      "         0.9999,  1.0000,  1.0000,  1.0000,  1.0000,  1.0000,  1.0000,  1.0000,\n",
      "         1.0000,  1.0000,  1.0000,  1.0000,  1.0000,  1.0000,  1.0000,  1.0000,\n",
      "         1.0000,  1.0000,  1.0000,  1.0000,  1.0000,  1.0000,  1.0000,  1.0000,\n",
      "         1.0000,  1.0000,  1.0000,  1.0000])\n"
     ]
    }
   ],
   "source": [
    "print(torch.tanh(x))"
   ]
  },
  {
   "cell_type": "code",
   "execution_count": 11,
   "metadata": {},
   "outputs": [
    {
     "data": {
      "image/png": "[encoded data removed]",
      "text/plain": [
       "<Figure size 432x288 with 1 Axes>"
      ]
     },
     "metadata": {
      "needs_background": "light"
     },
     "output_type": "display_data"
    }
   ],
   "source": [
    "plt.plot(x.numpy(), act(x).numpy())\n",
    "plt.show()"
   ]
  },
  {
   "cell_type": "code",
   "execution_count": null,
   "metadata": {},
   "outputs": [],
   "source": []
  }
 ],
 "metadata": {
  "interpreter": {
   "hash": "d61e67d4406f83661a218a7594034be74564666d0640d3900a3e99845865d0f0"
  },
  "kernelspec": {
   "display_name": "Python 3.9.7 64-bit ('torch': conda)",
   "language": "python",
   "name": "python3"
  },
  "language_info": {
   "codemirror_mode": {
    "name": "ipython",
    "version": 3
   },
   "file_extension": ".py",
   "mimetype": "text/x-python",
   "name": "python",
   "nbconvert_exporter": "python",
   "pygments_lexer": "ipython3",
   "version": "3.9.7"
  },
  "orig_nbformat": 4
 },
 "nbformat": 4,
 "nbformat_minor": 2
}
