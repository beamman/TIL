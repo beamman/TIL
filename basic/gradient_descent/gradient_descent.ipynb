{
 "cells": [
  {
   "cell_type": "markdown",
   "metadata": {},
   "source": [
    "### gradient descent"
   ]
  },
  {
   "cell_type": "code",
   "execution_count": 9,
   "metadata": {},
   "outputs": [],
   "source": [
    "import torch\n",
    "import torch.nn.functional as F"
   ]
  },
  {
   "cell_type": "code",
   "execution_count": 10,
   "metadata": {},
   "outputs": [],
   "source": [
    "target = torch.FloatTensor([[.1, .2, .3], [.4, .5, .6], [.7, .8, .9]])"
   ]
  },
  {
   "cell_type": "code",
   "execution_count": 11,
   "metadata": {},
   "outputs": [
    {
     "name": "stdout",
     "output_type": "stream",
     "text": [
      "tensor([[0.7255, 0.7880, 0.3588],\n",
      "        [0.0494, 0.6503, 0.9340],\n",
      "        [0.3421, 0.0396, 0.5538]], requires_grad=True)\n"
     ]
    }
   ],
   "source": [
    "x = torch.rand_like(target)\n",
    "\n",
    "x.requires_grad = True\n",
    "\n",
    "print(x)"
   ]
  },
  {
   "cell_type": "code",
   "execution_count": 12,
   "metadata": {},
   "outputs": [
    {
     "data": {
      "text/plain": [
       "tensor(0.2026, grad_fn=<MseLossBackward0>)"
      ]
     },
     "execution_count": 12,
     "metadata": {},
     "output_type": "execute_result"
    }
   ],
   "source": [
    "loss = F.mse_loss(x, target)\n",
    "\n",
    "loss"
   ]
  },
  {
   "cell_type": "code",
   "execution_count": 13,
   "metadata": {},
   "outputs": [
    {
     "name": "stdout",
     "output_type": "stream",
     "text": [
      "1-th Loss: 1.2257e-01\n",
      "tensor([[0.5865, 0.6573, 0.3457],\n",
      "        [0.1273, 0.6169, 0.8598],\n",
      "        [0.4216, 0.2086, 0.6307]], requires_grad=True)\n",
      "2-th Loss: 7.4150e-02\n",
      "tensor([[0.4784, 0.5557, 0.3355],\n",
      "        [0.1879, 0.5909, 0.8021],\n",
      "        [0.4835, 0.3400, 0.6906]], requires_grad=True)\n",
      "3-th Loss: 4.4856e-02\n",
      "tensor([[0.3943, 0.4766, 0.3276],\n",
      "        [0.2351, 0.5707, 0.7572],\n",
      "        [0.5316, 0.4422, 0.7371]], requires_grad=True)\n",
      "4-th Loss: 2.7135e-02\n",
      "tensor([[0.3289, 0.4152, 0.3215],\n",
      "        [0.2717, 0.5550, 0.7222],\n",
      "        [0.5690, 0.5217, 0.7733]], requires_grad=True)\n",
      "5-th Loss: 1.6415e-02\n",
      "tensor([[0.2780, 0.3673, 0.3167],\n",
      "        [0.3002, 0.5428, 0.6951],\n",
      "        [0.5981, 0.5836, 0.8015]], requires_grad=True)\n",
      "6-th Loss: 9.9302e-03\n",
      "tensor([[0.2385, 0.3302, 0.3130],\n",
      "        [0.3224, 0.5333, 0.6739],\n",
      "        [0.6208, 0.6317, 0.8234]], requires_grad=True)\n",
      "7-th Loss: 6.0071e-03\n",
      "tensor([[0.2077, 0.3012, 0.3101],\n",
      "        [0.3396, 0.5259, 0.6575],\n",
      "        [0.6384, 0.6691, 0.8404]], requires_grad=True)\n",
      "8-th Loss: 3.6339e-03\n",
      "tensor([[0.1838, 0.2787, 0.3079],\n",
      "        [0.3531, 0.5201, 0.6447],\n",
      "        [0.6521, 0.6982, 0.8536]], requires_grad=True)\n",
      "9-th Loss: 2.1983e-03\n",
      "tensor([[0.1652, 0.2612, 0.3061],\n",
      "        [0.3635, 0.5157, 0.6348],\n",
      "        [0.6627, 0.7208, 0.8639]], requires_grad=True)\n",
      "10-th Loss: 1.3298e-03\n",
      "tensor([[0.1507, 0.2476, 0.3048],\n",
      "        [0.3716, 0.5122, 0.6271],\n",
      "        [0.6710, 0.7384, 0.8720]], requires_grad=True)\n",
      "11-th Loss: 8.0447e-04\n",
      "tensor([[0.1394, 0.2370, 0.3037],\n",
      "        [0.3779, 0.5095, 0.6210],\n",
      "        [0.6774, 0.7521, 0.8782]], requires_grad=True)\n",
      "12-th Loss: 4.8666e-04\n",
      "tensor([[0.1307, 0.2288, 0.3029],\n",
      "        [0.3828, 0.5074, 0.6164],\n",
      "        [0.6825, 0.7627, 0.8830]], requires_grad=True)\n",
      "13-th Loss: 2.9440e-04\n",
      "tensor([[0.1238, 0.2224, 0.3022],\n",
      "        [0.3866, 0.5057, 0.6127],\n",
      "        [0.6864, 0.7710, 0.8868]], requires_grad=True)\n",
      "14-th Loss: 1.7809e-04\n",
      "tensor([[0.1185, 0.2174, 0.3017],\n",
      "        [0.3896, 0.5045, 0.6099],\n",
      "        [0.6894, 0.7775, 0.8897]], requires_grad=True)\n",
      "15-th Loss: 1.0773e-04\n",
      "tensor([[0.1144, 0.2136, 0.3014],\n",
      "        [0.3919, 0.5035, 0.6077],\n",
      "        [0.6917, 0.7825, 0.8920]], requires_grad=True)\n",
      "16-th Loss: 6.5173e-05\n",
      "tensor([[0.1112, 0.2105, 0.3011],\n",
      "        [0.3937, 0.5027, 0.6060],\n",
      "        [0.6936, 0.7864, 0.8938]], requires_grad=True)\n",
      "17-th Loss: 3.9425e-05\n",
      "tensor([[0.1087, 0.2082, 0.3008],\n",
      "        [0.3951, 0.5021, 0.6047],\n",
      "        [0.6950, 0.7894, 0.8952]], requires_grad=True)\n",
      "18-th Loss: 2.3850e-05\n",
      "tensor([[0.1068, 0.2064, 0.3006],\n",
      "        [0.3962, 0.5016, 0.6036],\n",
      "        [0.6961, 0.7918, 0.8962]], requires_grad=True)\n",
      "19-th Loss: 1.4428e-05\n",
      "tensor([[0.1053, 0.2050, 0.3005],\n",
      "        [0.3970, 0.5013, 0.6028],\n",
      "        [0.6970, 0.7936, 0.8971]], requires_grad=True)\n",
      "20-th Loss: 8.7279e-06\n",
      "tensor([[0.1041, 0.2039, 0.3004],\n",
      "        [0.3977, 0.5010, 0.6022],\n",
      "        [0.6977, 0.7950, 0.8977]], requires_grad=True)\n"
     ]
    }
   ],
   "source": [
    "threshold = 1e-5\n",
    "learning_rate = 1.\n",
    "iter_cnt = 0\n",
    "\n",
    "while loss > threshold:\n",
    "    iter_cnt += 1\n",
    "\n",
    "    loss.backward()\n",
    "\n",
    "    x = x - learning_rate * x.grad\n",
    "\n",
    "    x.detach_()\n",
    "    x.requires_grad_(True)\n",
    "\n",
    "    loss = F.mse_loss(target, x)\n",
    "\n",
    "    print('%d-th Loss: %.4e' % (iter_cnt, loss))\n",
    "    print(x)"
   ]
  }
 ],
 "metadata": {
  "interpreter": {
   "hash": "d61e67d4406f83661a218a7594034be74564666d0640d3900a3e99845865d0f0"
  },
  "kernelspec": {
   "display_name": "Python 3.9.7 64-bit ('torch': conda)",
   "language": "python",
   "name": "python3"
  },
  "language_info": {
   "codemirror_mode": {
    "name": "ipython",
    "version": 3
   },
   "file_extension": ".py",
   "mimetype": "text/x-python",
   "name": "python",
   "nbconvert_exporter": "python",
   "pygments_lexer": "ipython3",
   "version": "3.9.7"
  },
  "orig_nbformat": 4
 },
 "nbformat": 4,
 "nbformat_minor": 2
}
