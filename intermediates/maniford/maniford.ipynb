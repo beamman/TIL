{
 "cells": [
  {
   "cell_type": "code",
   "execution_count": 1,
   "metadata": {},
   "outputs": [],
   "source": [
    "import numpy as np\n",
    "import matplotlib.pyplot as plt"
   ]
  },
  {
   "cell_type": "code",
   "execution_count": 2,
   "metadata": {},
   "outputs": [],
   "source": [
    "import torch\n",
    "import torch.nn as nn\n",
    "import torch.optim as optim"
   ]
  },
  {
   "cell_type": "code",
   "execution_count": 3,
   "metadata": {},
   "outputs": [],
   "source": [
    "from utils import load_mnist\n",
    "from trainer import Trainer"
   ]
  },
  {
   "cell_type": "code",
   "execution_count": 4,
   "metadata": {},
   "outputs": [
    {
     "name": "stdout",
     "output_type": "stream",
     "text": [
      "Namespace(train_ratio=0.8, batch_size=256, n_epochs=50, verbose=1, btl_size=2)\n"
     ]
    }
   ],
   "source": [
    "from argparse import Namespace\n",
    "\n",
    "config = {\n",
    "    'train_ratio': .8,\n",
    "    'batch_size': 256,\n",
    "    'n_epochs': 50,\n",
    "    'verbose': 1,\n",
    "    'btl_size': 2\n",
    "}\n",
    "\n",
    "config = Namespace(**config)\n",
    "\n",
    "print(config)"
   ]
  },
  {
   "cell_type": "code",
   "execution_count": 5,
   "metadata": {},
   "outputs": [],
   "source": [
    "def show_img(x):\n",
    "\n",
    "\n",
    "    if x.dim() == 1:\n",
    "        x = x.view(int(x.size(0) ** .5), -1)\n",
    "\n",
    "    plt.imshow(x, cmap='gray')\n",
    "    plt.show()"
   ]
  },
  {
   "cell_type": "code",
   "execution_count": 6,
   "metadata": {},
   "outputs": [
    {
     "name": "stdout",
     "output_type": "stream",
     "text": [
      "Train: torch.Size([48000, 784]) torch.Size([48000])\n",
      "Valid: torch.Size([12000, 784]) torch.Size([12000])\n",
      "Test: torch.Size([10000, 784]) torch.Size([10000])\n"
     ]
    }
   ],
   "source": [
    "train_x, train_y = load_mnist(flatten=True)\n",
    "test_x, test_y = load_mnist(is_train=False, flatten=True)\n",
    "\n",
    "train_cnt = int(train_x.size(0) * config.train_ratio)\n",
    "valid_cnt = train_x.size(0) - train_cnt\n",
    "\n",
    "indices = torch.randperm(train_x.size(0))\n",
    "train_x, valid_x = torch.index_select(train_x, dim=0, index=indices).split([train_cnt, valid_cnt], dim=0)\n",
    "train_y, valid_y = torch.index_select(train_y, dim=0, index=indices).split([train_cnt, valid_cnt], dim=0)\n",
    "\n",
    "print(\"Train:\", train_x.shape, train_y.shape)\n",
    "print(\"Valid:\", valid_x.shape, valid_y.shape)\n",
    "print(\"Test:\", test_x.shape, test_y.shape)"
   ]
  },
  {
   "cell_type": "code",
   "execution_count": 7,
   "metadata": {},
   "outputs": [],
   "source": [
    "from model import Autoencoder"
   ]
  },
  {
   "cell_type": "code",
   "execution_count": 8,
   "metadata": {},
   "outputs": [],
   "source": [
    "model = Autoencoder(btl_size=config.btl_size)\n",
    "optimizer = optim.Adam(model.parameters())\n",
    "crit = nn.MSELoss()\n",
    "\n",
    "trainer = Trainer(model, optimizer, crit)"
   ]
  },
  {
   "cell_type": "code",
   "execution_count": 9,
   "metadata": {},
   "outputs": [
    {
     "name": "stdout",
     "output_type": "stream",
     "text": [
      "Epoch (1/50): train_loss=7.1565e-02  valid_loss=4.8843e-02  lowest_loss=4.8843e-02\n",
      "Epoch (2/50): train_loss=4.7101e-02  valid_loss=4.4534e-02  lowest_loss=4.4534e-02\n",
      "Epoch (3/50): train_loss=4.4811e-02  valid_loss=4.2814e-02  lowest_loss=4.2814e-02\n",
      "Epoch (4/50): train_loss=4.3357e-02  valid_loss=4.1755e-02  lowest_loss=4.1755e-02\n",
      "Epoch (5/50): train_loss=4.2343e-02  valid_loss=4.1143e-02  lowest_loss=4.1143e-02\n",
      "Epoch (6/50): train_loss=4.2086e-02  valid_loss=4.0818e-02  lowest_loss=4.0818e-02\n",
      "Epoch (7/50): train_loss=4.1474e-02  valid_loss=3.9538e-02  lowest_loss=3.9538e-02\n",
      "Epoch (8/50): train_loss=4.0657e-02  valid_loss=3.9566e-02  lowest_loss=3.9538e-02\n",
      "Epoch (9/50): train_loss=4.0702e-02  valid_loss=4.0138e-02  lowest_loss=3.9538e-02\n",
      "Epoch (10/50): train_loss=4.0321e-02  valid_loss=3.9091e-02  lowest_loss=3.9091e-02\n",
      "Epoch (11/50): train_loss=3.9975e-02  valid_loss=3.9014e-02  lowest_loss=3.9014e-02\n",
      "Epoch (12/50): train_loss=3.9521e-02  valid_loss=3.8401e-02  lowest_loss=3.8401e-02\n",
      "Epoch (13/50): train_loss=3.9304e-02  valid_loss=3.8034e-02  lowest_loss=3.8034e-02\n",
      "Epoch (14/50): train_loss=3.9109e-02  valid_loss=3.7846e-02  lowest_loss=3.7846e-02\n",
      "Epoch (15/50): train_loss=3.9253e-02  valid_loss=3.7883e-02  lowest_loss=3.7846e-02\n",
      "Epoch (16/50): train_loss=3.8823e-02  valid_loss=3.9389e-02  lowest_loss=3.7846e-02\n",
      "Epoch (17/50): train_loss=3.8724e-02  valid_loss=3.7633e-02  lowest_loss=3.7633e-02\n",
      "Epoch (18/50): train_loss=3.8741e-02  valid_loss=3.7772e-02  lowest_loss=3.7633e-02\n",
      "Epoch (19/50): train_loss=3.8521e-02  valid_loss=3.7517e-02  lowest_loss=3.7517e-02\n",
      "Epoch (20/50): train_loss=3.8273e-02  valid_loss=3.6980e-02  lowest_loss=3.6980e-02\n",
      "Epoch (21/50): train_loss=3.8156e-02  valid_loss=3.6770e-02  lowest_loss=3.6770e-02\n",
      "Epoch (22/50): train_loss=3.8035e-02  valid_loss=3.6938e-02  lowest_loss=3.6770e-02\n",
      "Epoch (23/50): train_loss=3.7674e-02  valid_loss=3.6983e-02  lowest_loss=3.6770e-02\n",
      "Epoch (24/50): train_loss=3.7613e-02  valid_loss=3.6571e-02  lowest_loss=3.6571e-02\n",
      "Epoch (25/50): train_loss=3.7575e-02  valid_loss=3.6214e-02  lowest_loss=3.6214e-02\n",
      "Epoch (26/50): train_loss=3.7335e-02  valid_loss=3.6603e-02  lowest_loss=3.6214e-02\n",
      "Epoch (27/50): train_loss=3.7627e-02  valid_loss=3.7015e-02  lowest_loss=3.6214e-02\n",
      "Epoch (28/50): train_loss=3.7566e-02  valid_loss=3.6414e-02  lowest_loss=3.6214e-02\n",
      "Epoch (29/50): train_loss=3.7703e-02  valid_loss=3.6398e-02  lowest_loss=3.6214e-02\n",
      "Epoch (30/50): train_loss=3.7098e-02  valid_loss=3.6113e-02  lowest_loss=3.6113e-02\n",
      "Epoch (31/50): train_loss=3.7069e-02  valid_loss=3.6496e-02  lowest_loss=3.6113e-02\n",
      "Epoch (32/50): train_loss=3.6884e-02  valid_loss=3.6123e-02  lowest_loss=3.6113e-02\n",
      "Epoch (33/50): train_loss=3.7099e-02  valid_loss=3.6352e-02  lowest_loss=3.6113e-02\n",
      "Epoch (34/50): train_loss=3.6872e-02  valid_loss=3.5873e-02  lowest_loss=3.5873e-02\n",
      "Epoch (35/50): train_loss=3.6620e-02  valid_loss=3.5798e-02  lowest_loss=3.5798e-02\n",
      "Epoch (36/50): train_loss=3.6613e-02  valid_loss=3.6132e-02  lowest_loss=3.5798e-02\n",
      "Epoch (37/50): train_loss=3.6714e-02  valid_loss=3.5493e-02  lowest_loss=3.5493e-02\n",
      "Epoch (38/50): train_loss=3.6438e-02  valid_loss=3.5668e-02  lowest_loss=3.5493e-02\n",
      "Epoch (39/50): train_loss=3.6391e-02  valid_loss=3.5230e-02  lowest_loss=3.5230e-02\n",
      "Epoch (40/50): train_loss=3.6264e-02  valid_loss=3.5128e-02  lowest_loss=3.5128e-02\n",
      "Epoch (41/50): train_loss=3.6250e-02  valid_loss=3.5271e-02  lowest_loss=3.5128e-02\n",
      "Epoch (42/50): train_loss=3.6243e-02  valid_loss=3.5297e-02  lowest_loss=3.5128e-02\n",
      "Epoch (43/50): train_loss=3.6242e-02  valid_loss=3.5058e-02  lowest_loss=3.5058e-02\n",
      "Epoch (44/50): train_loss=3.6318e-02  valid_loss=3.5424e-02  lowest_loss=3.5058e-02\n",
      "Epoch (45/50): train_loss=3.6419e-02  valid_loss=3.5208e-02  lowest_loss=3.5058e-02\n",
      "Epoch (46/50): train_loss=3.6192e-02  valid_loss=3.5214e-02  lowest_loss=3.5058e-02\n",
      "Epoch (47/50): train_loss=3.6051e-02  valid_loss=3.5107e-02  lowest_loss=3.5058e-02\n",
      "Epoch (48/50): train_loss=3.6439e-02  valid_loss=3.4965e-02  lowest_loss=3.4965e-02\n",
      "Epoch (49/50): train_loss=3.6022e-02  valid_loss=3.4790e-02  lowest_loss=3.4790e-02\n",
      "Epoch (50/50): train_loss=3.5695e-02  valid_loss=3.4833e-02  lowest_loss=3.4790e-02\n"
     ]
    }
   ],
   "source": [
    "trainer.train((train_x, train_x), (valid_x, valid_x), config)"
   ]
  },
  {
   "cell_type": "markdown",
   "metadata": {},
   "source": [
    "### Test"
   ]
  },
  {
   "cell_type": "code",
   "execution_count": 13,
   "metadata": {},
   "outputs": [
    {
     "data": {
      "image/png": "[encoded data removed]",
      "text/plain": [
       "<Figure size 432x288 with 1 Axes>"
      ]
     },
     "metadata": {
      "needs_background": "light"
     },
     "output_type": "display_data"
    },
    {
     "data": {
      "image/png": "[encoded data removed]",
      "text/plain": [
       "<Figure size 432x288 with 1 Axes>"
      ]
     },
     "metadata": {
      "needs_background": "light"
     },
     "output_type": "display_data"
    },
    {
     "data": {
      "image/png": "[encoded data removed]",
      "text/plain": [
       "<Figure size 432x288 with 1 Axes>"
      ]
     },
     "metadata": {
      "needs_background": "light"
     },
     "output_type": "display_data"
    },
    {
     "data": {
      "image/png": "[encoded data removed]",
      "text/plain": [
       "<Figure size 432x288 with 1 Axes>"
      ]
     },
     "metadata": {
      "needs_background": "light"
     },
     "output_type": "display_data"
    }
   ],
   "source": [
    "with torch.no_grad():\n",
    "    import random\n",
    "\n",
    "    index1 = int(random.random() * test_x.size(0))\n",
    "    index2 = int(random.random() * test_x.size(0))\n",
    "\n",
    "    z1 = model.encoder(test_x[index1].view(1, -1))\n",
    "    z2 = model.encoder(test_x[index2].view(1, -1))\n",
    "\n",
    "    recon = model.decoder((z1+z2) / 2).squeeze()\n",
    "\n",
    "    show_img(test_x[index1])\n",
    "    show_img(test_x[index2])\n",
    "    show_img((test_x[index1] + test_x[index2])/ 2)\n",
    "    show_img(recon)"
   ]
  }
 ],
 "metadata": {
  "interpreter": {
   "hash": "d61e67d4406f83661a218a7594034be74564666d0640d3900a3e99845865d0f0"
  },
  "kernelspec": {
   "display_name": "Python 3.9.7 64-bit ('torch': conda)",
   "language": "python",
   "name": "python3"
  },
  "language_info": {
   "codemirror_mode": {
    "name": "ipython",
    "version": 3
   },
   "file_extension": ".py",
   "mimetype": "text/x-python",
   "name": "python",
   "nbconvert_exporter": "python",
   "pygments_lexer": "ipython3",
   "version": "3.9.7"
  },
  "orig_nbformat": 4
 },
 "nbformat": 4,
 "nbformat_minor": 2
}
